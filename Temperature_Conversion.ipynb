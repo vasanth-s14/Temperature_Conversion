{
  "nbformat": 4,
  "nbformat_minor": 0,
  "metadata": {
    "colab": {
      "provenance": []
    },
    "kernelspec": {
      "name": "python3",
      "display_name": "Python 3"
    },
    "language_info": {
      "name": "python"
    },
    "widgets": {
      "application/vnd.jupyter.widget-state+json": {
        "d3d18a0d9d1c408391a3377788f3ffc8": {
          "model_module": "@jupyter-widgets/controls",
          "model_name": "FloatTextModel",
          "model_module_version": "1.5.0",
          "state": {
            "_dom_classes": [],
            "_model_module": "@jupyter-widgets/controls",
            "_model_module_version": "1.5.0",
            "_model_name": "FloatTextModel",
            "_view_count": null,
            "_view_module": "@jupyter-widgets/controls",
            "_view_module_version": "1.5.0",
            "_view_name": "FloatTextView",
            "continuous_update": false,
            "description": "Temperature:",
            "description_tooltip": null,
            "disabled": false,
            "layout": "IPY_MODEL_c557688d09cb47638f1e8e9ded17768d",
            "step": null,
            "style": "IPY_MODEL_84bd37d57f5046dd9a10af561feaebee",
            "value": 25
          }
        },
        "c557688d09cb47638f1e8e9ded17768d": {
          "model_module": "@jupyter-widgets/base",
          "model_name": "LayoutModel",
          "model_module_version": "1.2.0",
          "state": {
            "_model_module": "@jupyter-widgets/base",
            "_model_module_version": "1.2.0",
            "_model_name": "LayoutModel",
            "_view_count": null,
            "_view_module": "@jupyter-widgets/base",
            "_view_module_version": "1.2.0",
            "_view_name": "LayoutView",
            "align_content": null,
            "align_items": null,
            "align_self": null,
            "border": null,
            "bottom": null,
            "display": null,
            "flex": null,
            "flex_flow": null,
            "grid_area": null,
            "grid_auto_columns": null,
            "grid_auto_flow": null,
            "grid_auto_rows": null,
            "grid_column": null,
            "grid_gap": null,
            "grid_row": null,
            "grid_template_areas": null,
            "grid_template_columns": null,
            "grid_template_rows": null,
            "height": null,
            "justify_content": null,
            "justify_items": null,
            "left": null,
            "margin": null,
            "max_height": null,
            "max_width": null,
            "min_height": null,
            "min_width": null,
            "object_fit": null,
            "object_position": null,
            "order": null,
            "overflow": null,
            "overflow_x": null,
            "overflow_y": null,
            "padding": null,
            "right": null,
            "top": null,
            "visibility": null,
            "width": null
          }
        },
        "84bd37d57f5046dd9a10af561feaebee": {
          "model_module": "@jupyter-widgets/controls",
          "model_name": "DescriptionStyleModel",
          "model_module_version": "1.5.0",
          "state": {
            "_model_module": "@jupyter-widgets/controls",
            "_model_module_version": "1.5.0",
            "_model_name": "DescriptionStyleModel",
            "_view_count": null,
            "_view_module": "@jupyter-widgets/base",
            "_view_module_version": "1.2.0",
            "_view_name": "StyleView",
            "description_width": ""
          }
        },
        "3dcf0a69819942809124ae213f54f2de": {
          "model_module": "@jupyter-widgets/controls",
          "model_name": "DropdownModel",
          "model_module_version": "1.5.0",
          "state": {
            "_dom_classes": [],
            "_model_module": "@jupyter-widgets/controls",
            "_model_module_version": "1.5.0",
            "_model_name": "DropdownModel",
            "_options_labels": [
              "C",
              "F",
              "K"
            ],
            "_view_count": null,
            "_view_module": "@jupyter-widgets/controls",
            "_view_module_version": "1.5.0",
            "_view_name": "DropdownView",
            "description": "Unit:",
            "description_tooltip": null,
            "disabled": false,
            "index": 2,
            "layout": "IPY_MODEL_cea3a2352e2a4473b11a7413817ab136",
            "style": "IPY_MODEL_5c33dc18f2ce4167834e0a0227de4d5a"
          }
        },
        "cea3a2352e2a4473b11a7413817ab136": {
          "model_module": "@jupyter-widgets/base",
          "model_name": "LayoutModel",
          "model_module_version": "1.2.0",
          "state": {
            "_model_module": "@jupyter-widgets/base",
            "_model_module_version": "1.2.0",
            "_model_name": "LayoutModel",
            "_view_count": null,
            "_view_module": "@jupyter-widgets/base",
            "_view_module_version": "1.2.0",
            "_view_name": "LayoutView",
            "align_content": null,
            "align_items": null,
            "align_self": null,
            "border": null,
            "bottom": null,
            "display": null,
            "flex": null,
            "flex_flow": null,
            "grid_area": null,
            "grid_auto_columns": null,
            "grid_auto_flow": null,
            "grid_auto_rows": null,
            "grid_column": null,
            "grid_gap": null,
            "grid_row": null,
            "grid_template_areas": null,
            "grid_template_columns": null,
            "grid_template_rows": null,
            "height": null,
            "justify_content": null,
            "justify_items": null,
            "left": null,
            "margin": null,
            "max_height": null,
            "max_width": null,
            "min_height": null,
            "min_width": null,
            "object_fit": null,
            "object_position": null,
            "order": null,
            "overflow": null,
            "overflow_x": null,
            "overflow_y": null,
            "padding": null,
            "right": null,
            "top": null,
            "visibility": null,
            "width": null
          }
        },
        "5c33dc18f2ce4167834e0a0227de4d5a": {
          "model_module": "@jupyter-widgets/controls",
          "model_name": "DescriptionStyleModel",
          "model_module_version": "1.5.0",
          "state": {
            "_model_module": "@jupyter-widgets/controls",
            "_model_module_version": "1.5.0",
            "_model_name": "DescriptionStyleModel",
            "_view_count": null,
            "_view_module": "@jupyter-widgets/base",
            "_view_module_version": "1.2.0",
            "_view_name": "StyleView",
            "description_width": ""
          }
        },
        "ebf623338ad145e7a1bfa4f1188bf5bb": {
          "model_module": "@jupyter-widgets/controls",
          "model_name": "ButtonModel",
          "model_module_version": "1.5.0",
          "state": {
            "_dom_classes": [],
            "_model_module": "@jupyter-widgets/controls",
            "_model_module_version": "1.5.0",
            "_model_name": "ButtonModel",
            "_view_count": null,
            "_view_module": "@jupyter-widgets/controls",
            "_view_module_version": "1.5.0",
            "_view_name": "ButtonView",
            "button_style": "",
            "description": "Convert",
            "disabled": false,
            "icon": "",
            "layout": "IPY_MODEL_785830a4b5cc443ea61ae98ba4a28dc5",
            "style": "IPY_MODEL_9a0f9d29341143b3bbc9ddb066c6e87c",
            "tooltip": ""
          }
        },
        "785830a4b5cc443ea61ae98ba4a28dc5": {
          "model_module": "@jupyter-widgets/base",
          "model_name": "LayoutModel",
          "model_module_version": "1.2.0",
          "state": {
            "_model_module": "@jupyter-widgets/base",
            "_model_module_version": "1.2.0",
            "_model_name": "LayoutModel",
            "_view_count": null,
            "_view_module": "@jupyter-widgets/base",
            "_view_module_version": "1.2.0",
            "_view_name": "LayoutView",
            "align_content": null,
            "align_items": null,
            "align_self": null,
            "border": null,
            "bottom": null,
            "display": null,
            "flex": null,
            "flex_flow": null,
            "grid_area": null,
            "grid_auto_columns": null,
            "grid_auto_flow": null,
            "grid_auto_rows": null,
            "grid_column": null,
            "grid_gap": null,
            "grid_row": null,
            "grid_template_areas": null,
            "grid_template_columns": null,
            "grid_template_rows": null,
            "height": null,
            "justify_content": null,
            "justify_items": null,
            "left": null,
            "margin": null,
            "max_height": null,
            "max_width": null,
            "min_height": null,
            "min_width": null,
            "object_fit": null,
            "object_position": null,
            "order": null,
            "overflow": null,
            "overflow_x": null,
            "overflow_y": null,
            "padding": null,
            "right": null,
            "top": null,
            "visibility": null,
            "width": null
          }
        },
        "9a0f9d29341143b3bbc9ddb066c6e87c": {
          "model_module": "@jupyter-widgets/controls",
          "model_name": "ButtonStyleModel",
          "model_module_version": "1.5.0",
          "state": {
            "_model_module": "@jupyter-widgets/controls",
            "_model_module_version": "1.5.0",
            "_model_name": "ButtonStyleModel",
            "_view_count": null,
            "_view_module": "@jupyter-widgets/base",
            "_view_module_version": "1.2.0",
            "_view_name": "StyleView",
            "button_color": null,
            "font_weight": ""
          }
        },
        "f7c91a5098f34c70ad5d9b516ed359e2": {
          "model_module": "@jupyter-widgets/output",
          "model_name": "OutputModel",
          "model_module_version": "1.0.0",
          "state": {
            "_dom_classes": [],
            "_model_module": "@jupyter-widgets/output",
            "_model_module_version": "1.0.0",
            "_model_name": "OutputModel",
            "_view_count": null,
            "_view_module": "@jupyter-widgets/output",
            "_view_module_version": "1.0.0",
            "_view_name": "OutputView",
            "layout": "IPY_MODEL_fc1a95a436b84b98a1850cfabfbfc333",
            "msg_id": "",
            "outputs": [
              {
                "output_type": "stream",
                "name": "stdout",
                "text": [
                  "25.0K is equal to -248.15°C and -414.67°F\n"
                ]
              }
            ]
          }
        },
        "fc1a95a436b84b98a1850cfabfbfc333": {
          "model_module": "@jupyter-widgets/base",
          "model_name": "LayoutModel",
          "model_module_version": "1.2.0",
          "state": {
            "_model_module": "@jupyter-widgets/base",
            "_model_module_version": "1.2.0",
            "_model_name": "LayoutModel",
            "_view_count": null,
            "_view_module": "@jupyter-widgets/base",
            "_view_module_version": "1.2.0",
            "_view_name": "LayoutView",
            "align_content": null,
            "align_items": null,
            "align_self": null,
            "border": null,
            "bottom": null,
            "display": null,
            "flex": null,
            "flex_flow": null,
            "grid_area": null,
            "grid_auto_columns": null,
            "grid_auto_flow": null,
            "grid_auto_rows": null,
            "grid_column": null,
            "grid_gap": null,
            "grid_row": null,
            "grid_template_areas": null,
            "grid_template_columns": null,
            "grid_template_rows": null,
            "height": null,
            "justify_content": null,
            "justify_items": null,
            "left": null,
            "margin": null,
            "max_height": null,
            "max_width": null,
            "min_height": null,
            "min_width": null,
            "object_fit": null,
            "object_position": null,
            "order": null,
            "overflow": null,
            "overflow_x": null,
            "overflow_y": null,
            "padding": null,
            "right": null,
            "top": null,
            "visibility": null,
            "width": null
          }
        }
      }
    }
  },
  "cells": [
    {
      "cell_type": "markdown",
      "source": [
        "**Build a temperature conversion program\n",
        "create a program that coverts an temperature between celsius farenheit and kelvin scales. the program should be prompt the user to input a temperature value and the original values and the original measurement units. it should then convert the temperature to the other two units an display and converted values to the user. For example, if the user enter a temperature of 25 degree of celcius, the program should be convert it to Farenheit and kelvin ,and present the converted values as outputs.**"
      ],
      "metadata": {
        "id": "6Njm30Z0gq2Q"
      }
    },
    {
      "cell_type": "code",
      "source": [
        "import ipywidgets as widgets\n",
        "from IPython.display import display\n",
        "\n",
        "# Temperature Conversion Functions\n",
        "def celsius_to_fahrenheit(celsius):\n",
        "    return (celsius * 9/5) + 32\n",
        "\n",
        "def celsius_to_kelvin(celsius):\n",
        "    return celsius + 273.15\n",
        "\n",
        "def fahrenheit_to_celsius(fahrenheit):\n",
        "    return (fahrenheit - 32) * 5/9\n",
        "\n",
        "def fahrenheit_to_kelvin(fahrenheit):\n",
        "    return fahrenheit_to_celsius(fahrenheit) + 273.15\n",
        "\n",
        "def kelvin_to_celsius(kelvin):\n",
        "    return kelvin - 273.15\n",
        "\n",
        "def kelvin_to_fahrenheit(kelvin):\n",
        "    return celsius_to_fahrenheit(kelvin_to_celsius(kelvin))\n",
        "\n",
        "def convert_temperature(value, unit):\n",
        "    if unit.lower() == 'c':\n",
        "        fahrenheit = celsius_to_fahrenheit(value)\n",
        "        kelvin = celsius_to_kelvin(value)\n",
        "        return fahrenheit, kelvin\n",
        "    elif unit.lower() == 'f':\n",
        "        celsius = fahrenheit_to_celsius(value)\n",
        "        kelvin = fahrenheit_to_kelvin(value)\n",
        "        return celsius, kelvin\n",
        "    elif unit.lower() == 'k':\n",
        "        celsius = kelvin_to_celsius(value)\n",
        "        fahrenheit = kelvin_to_fahrenheit(value)\n",
        "        return celsius, fahrenheit\n",
        "    else:\n",
        "        return None, None\n",
        "\n",
        "# Interactive Function\n",
        "def interactive_temperature_conversion(value, unit):\n",
        "    converted_values = convert_temperature(value, unit)\n",
        "\n",
        "    if converted_values == (None, None):\n",
        "        print(\"Invalid unit entered. Please use 'C', 'F', or 'K'.\")\n",
        "    else:\n",
        "        if unit.lower() == 'c':\n",
        "            print(f\"{value}°C is equal to {converted_values[0]:.2f}°F and {converted_values[1]:.2f}K\")\n",
        "        elif unit.lower() == 'f':\n",
        "            print(f\"{value}°F is equal to {converted_values[0]:.2f}°C and {converted_values[1]:.2f}K\")\n",
        "        elif unit.lower() == 'k':\n",
        "            print(f\"{value}K is equal to {converted_values[0]:.2f}°C and {converted_values[1]:.2f}°F\")\n",
        "\n",
        "# Widgets for Interactive Input\n",
        "value_widget = widgets.FloatText(description=\"Temperature:\")\n",
        "unit_widget = widgets.Dropdown(options=['C', 'F', 'K'], description=\"Unit:\")\n",
        "\n",
        "button = widgets.Button(description=\"Convert\")\n",
        "output = widgets.Output()\n",
        "\n",
        "def on_button_clicked(b):\n",
        "    with output:\n",
        "        output.clear_output()\n",
        "        interactive_temperature_conversion(value_widget.value, unit_widget.value)\n",
        "\n",
        "button.on_click(on_button_clicked)\n",
        "\n",
        "display(value_widget, unit_widget, button, output)\n"
      ],
      "metadata": {
        "colab": {
          "base_uri": "https://localhost:8080/",
          "height": 128,
          "referenced_widgets": [
            "d3d18a0d9d1c408391a3377788f3ffc8",
            "c557688d09cb47638f1e8e9ded17768d",
            "84bd37d57f5046dd9a10af561feaebee",
            "3dcf0a69819942809124ae213f54f2de",
            "cea3a2352e2a4473b11a7413817ab136",
            "5c33dc18f2ce4167834e0a0227de4d5a",
            "ebf623338ad145e7a1bfa4f1188bf5bb",
            "785830a4b5cc443ea61ae98ba4a28dc5",
            "9a0f9d29341143b3bbc9ddb066c6e87c",
            "f7c91a5098f34c70ad5d9b516ed359e2",
            "fc1a95a436b84b98a1850cfabfbfc333"
          ]
        },
        "id": "KQQKJAWqggjk",
        "outputId": "a4c54425-bcf3-4740-dc2f-dd134149e233"
      },
      "execution_count": null,
      "outputs": [
        {
          "output_type": "display_data",
          "data": {
            "text/plain": [
              "FloatText(value=0.0, description='Temperature:')"
            ],
            "application/vnd.jupyter.widget-view+json": {
              "version_major": 2,
              "version_minor": 0,
              "model_id": "d3d18a0d9d1c408391a3377788f3ffc8"
            }
          },
          "metadata": {}
        },
        {
          "output_type": "display_data",
          "data": {
            "text/plain": [
              "Dropdown(description='Unit:', options=('C', 'F', 'K'), value='C')"
            ],
            "application/vnd.jupyter.widget-view+json": {
              "version_major": 2,
              "version_minor": 0,
              "model_id": "3dcf0a69819942809124ae213f54f2de"
            }
          },
          "metadata": {}
        },
        {
          "output_type": "display_data",
          "data": {
            "text/plain": [
              "Button(description='Convert', style=ButtonStyle())"
            ],
            "application/vnd.jupyter.widget-view+json": {
              "version_major": 2,
              "version_minor": 0,
              "model_id": "ebf623338ad145e7a1bfa4f1188bf5bb"
            }
          },
          "metadata": {}
        },
        {
          "output_type": "display_data",
          "data": {
            "text/plain": [
              "Output()"
            ],
            "application/vnd.jupyter.widget-view+json": {
              "version_major": 2,
              "version_minor": 0,
              "model_id": "f7c91a5098f34c70ad5d9b516ed359e2"
            }
          },
          "metadata": {}
        }
      ]
    }
  ]
}